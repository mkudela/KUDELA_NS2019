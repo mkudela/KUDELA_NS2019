{
  "cells": [
    {
      "metadata": {
        "collapsed": true,
        "trusted": false
      },
      "cell_type": "code",
      "source": "import pandas as pd # data processing, CSV file I/O\n\nimport numpy as np # lineara algebra\n\nfrom sklearn.preprocessing import StandardScaler # použtie pre škálovanie údajov\nfrom sklearn.model_selection import train_test_split\nfrom keras.models import Sequential\nfrom keras.layers import Dense, Dropout\nfrom keras import metrics\nfrom keras import backend as K\nfrom keras.wrappers.scikit_learn import KerasRegressor\n\nimport seaborn as sns\nimport matplotlib.pyplot as plt",
      "execution_count": null,
      "outputs": []
    }
  ],
  "metadata": {
    "kernelspec": {
      "name": "python36",
      "display_name": "Python 3.6",
      "language": "python"
    },
    "language_info": {
      "mimetype": "text/x-python",
      "nbconvert_exporter": "python",
      "name": "python",
      "pygments_lexer": "ipython3",
      "version": "3.6.6",
      "file_extension": ".py",
      "codemirror_mode": {
        "version": 3,
        "name": "ipython"
      }
    }
  },
  "nbformat": 4,
  "nbformat_minor": 2
}